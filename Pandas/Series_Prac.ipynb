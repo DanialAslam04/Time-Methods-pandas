{
 "cells": [
  {
   "cell_type": "code",
   "execution_count": 1,
   "id": "c96a825b",
   "metadata": {},
   "outputs": [],
   "source": [
    "import numpy as np\n"
   ]
  },
  {
   "cell_type": "code",
   "execution_count": 2,
   "id": "d3889633",
   "metadata": {},
   "outputs": [],
   "source": [
    "import pandas as pd"
   ]
  },
  {
   "cell_type": "code",
   "execution_count": 3,
   "id": "7fc552b6",
   "metadata": {},
   "outputs": [],
   "source": [
    "myindex=['pak','aus','Usa']"
   ]
  },
  {
   "cell_type": "code",
   "execution_count": 4,
   "id": "c39e60a8",
   "metadata": {},
   "outputs": [],
   "source": [
    "mydata=['2001','2002','2003']"
   ]
  },
  {
   "cell_type": "code",
   "execution_count": 11,
   "id": "add5d0a2",
   "metadata": {},
   "outputs": [],
   "source": [
    "ser=pd.Series(mydata,myindex)"
   ]
  },
  {
   "cell_type": "code",
   "execution_count": 12,
   "id": "4e8de727",
   "metadata": {},
   "outputs": [
    {
     "data": {
      "text/plain": [
       "pak    2001\n",
       "aus    2002\n",
       "Usa    2003\n",
       "dtype: object"
      ]
     },
     "execution_count": 12,
     "metadata": {},
     "output_type": "execute_result"
    }
   ],
   "source": [
    "ser"
   ]
  },
  {
   "cell_type": "code",
   "execution_count": 14,
   "id": "c0b19df5",
   "metadata": {},
   "outputs": [
    {
     "data": {
      "text/plain": [
       "'2001'"
      ]
     },
     "execution_count": 14,
     "metadata": {},
     "output_type": "execute_result"
    }
   ],
   "source": [
    "ser['pak']"
   ]
  },
  {
   "cell_type": "code",
   "execution_count": 15,
   "id": "d6490e4d",
   "metadata": {},
   "outputs": [
    {
     "data": {
      "text/plain": [
       "'2001'"
      ]
     },
     "execution_count": 15,
     "metadata": {},
     "output_type": "execute_result"
    }
   ],
   "source": [
    "ser[0]"
   ]
  },
  {
   "cell_type": "code",
   "execution_count": 16,
   "id": "c4c19753",
   "metadata": {},
   "outputs": [],
   "source": [
    "dic={'benz':1,'sb':2,'dan':3,'asd':4}"
   ]
  },
  {
   "cell_type": "code",
   "execution_count": 17,
   "id": "c038e00e",
   "metadata": {},
   "outputs": [],
   "source": [
    "ser1=pd.Series(dic)"
   ]
  },
  {
   "cell_type": "code",
   "execution_count": 18,
   "id": "81bcc384",
   "metadata": {},
   "outputs": [
    {
     "data": {
      "text/plain": [
       "benz    1\n",
       "sb      2\n",
       "dan     3\n",
       "asd     4\n",
       "dtype: int64"
      ]
     },
     "execution_count": 18,
     "metadata": {},
     "output_type": "execute_result"
    }
   ],
   "source": [
    "ser1"
   ]
  },
  {
   "cell_type": "code",
   "execution_count": 49,
   "id": "a01fd5ba",
   "metadata": {},
   "outputs": [],
   "source": [
    "# Imaginary Sales Data for 1st and 2nd Quarters for Global Company\n",
    "q1 = {'Japan': 5, 'China': 10, 'Pak': 15, 'USA': 20}\n",
    "q2 = {'Brazil': 10,'China': 20, 'Pak': 30,'USA': 40}"
   ]
  },
  {
   "cell_type": "code",
   "execution_count": 50,
   "id": "5306f833",
   "metadata": {},
   "outputs": [],
   "source": [
    "sq1=pd.Series(q1)\n",
    "sq2=pd.Series(q2)\n"
   ]
  },
  {
   "cell_type": "code",
   "execution_count": 51,
   "id": "2bc51923",
   "metadata": {},
   "outputs": [
    {
     "data": {
      "text/plain": [
       "Japan     5\n",
       "China    10\n",
       "Pak      15\n",
       "USA      20\n",
       "dtype: int64"
      ]
     },
     "execution_count": 51,
     "metadata": {},
     "output_type": "execute_result"
    }
   ],
   "source": [
    "sq1\n"
   ]
  },
  {
   "cell_type": "code",
   "execution_count": 52,
   "id": "a65a8f79",
   "metadata": {},
   "outputs": [
    {
     "data": {
      "text/plain": [
       "Brazil    10\n",
       "China     20\n",
       "Pak       30\n",
       "USA       40\n",
       "dtype: int64"
      ]
     },
     "execution_count": 52,
     "metadata": {},
     "output_type": "execute_result"
    }
   ],
   "source": [
    "sq2"
   ]
  },
  {
   "cell_type": "code",
   "execution_count": null,
   "id": "df82d94a",
   "metadata": {},
   "outputs": [],
   "source": []
  },
  {
   "cell_type": "code",
   "execution_count": 53,
   "id": "541bb065",
   "metadata": {},
   "outputs": [
    {
     "data": {
      "text/plain": [
       "Japan     5\n",
       "China    10\n",
       "Pak      15\n",
       "USA      20\n",
       "dtype: int64"
      ]
     },
     "execution_count": 53,
     "metadata": {},
     "output_type": "execute_result"
    }
   ],
   "source": [
    "sq1"
   ]
  },
  {
   "cell_type": "code",
   "execution_count": 56,
   "id": "0083ed7d",
   "metadata": {},
   "outputs": [
    {
     "data": {
      "text/plain": [
       "Brazil    10.0\n",
       "China     30.0\n",
       "Japan      5.0\n",
       "Pak       45.0\n",
       "USA       60.0\n",
       "dtype: float64"
      ]
     },
     "execution_count": 56,
     "metadata": {},
     "output_type": "execute_result"
    }
   ],
   "source": [
    "sq1.add(sq2,fill_value=0)"
   ]
  },
  {
   "cell_type": "code",
   "execution_count": null,
   "id": "2bcc489b",
   "metadata": {},
   "outputs": [],
   "source": []
  }
 ],
 "metadata": {
  "kernelspec": {
   "display_name": "Python 3 (ipykernel)",
   "language": "python",
   "name": "python3"
  },
  "language_info": {
   "codemirror_mode": {
    "name": "ipython",
    "version": 3
   },
   "file_extension": ".py",
   "mimetype": "text/x-python",
   "name": "python",
   "nbconvert_exporter": "python",
   "pygments_lexer": "ipython3",
   "version": "3.9.7"
  }
 },
 "nbformat": 4,
 "nbformat_minor": 5
}
